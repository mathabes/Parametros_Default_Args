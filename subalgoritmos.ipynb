{
 "cells": [
  {
   "attachments": {},
   "cell_type": "markdown",
   "metadata": {},
   "source": [
    "# Subalgoritmos\n",
    "### Utilização de parametros diferenciados\n",
    "##### Parametros Default\n",
    "Utilizamos o parâmetro default toda vez que existir a possibilidade do programador não passar parâmetros. Ele assume um valor padrão.\n",
    "\n",
    "**Sintaxe:**\n",
    "```python\n",
    "def nome_subalgoritmo(parametro = valor_padrao) -> Tipo_retorno:\n",
    "    corpo_subalgoritmo\n",
    "    [tipo_retorno]\n",
    "```\n",
    "\n",
    "##### Exemplo:"
   ]
  },
  {
   "cell_type": "code",
   "execution_count": 14,
   "metadata": {},
   "outputs": [
    {
     "name": "stdout",
     "output_type": "stream",
     "text": [
      "Bom dia tak\n",
      "Bom dia Usuário\n",
      "Boa noite Usuário\n",
      "Bom dia Maria\n"
     ]
    }
   ],
   "source": [
    "def saudacao(msg: str = \"Bom dia\", nome: str = \"Usuário\") -> None:\n",
    "    print(f\"{msg} {nome}\")\n",
    "\n",
    "saudacao(\"Bom dia\", \"tak\")\n",
    "saudacao()\n",
    "saudacao(\"Boa noite\")\n",
    "saudacao(nome = \"Maria\")\n"
   ]
  },
  {
   "attachments": {},
   "cell_type": "markdown",
   "metadata": {},
   "source": [
    "## Exercícios\n",
    "##### Ex. 1\n",
    "Criar um subalgoritmo que passe por parâmetro o nome do paciente e a hora de atendimento e exiba a mensagem: <br>**'XXXXXX o seu atendimento será às 99horas'**<br>Os padrões serão 'Paciente' para o nome do paciente e 8horas para o horário;\n"
   ]
  },
  {
   "cell_type": "code",
   "execution_count": 17,
   "metadata": {},
   "outputs": [
    {
     "name": "stdout",
     "output_type": "stream",
     "text": [
      "Paciente o seu atendimento será às 8 horas\n",
      "Pessoa o seu atendimento será às 11 horas\n",
      "Cara o seu atendimento será às 8 horas\n",
      "Paciente o seu atendimento será às 20horas\n"
     ]
    }
   ],
   "source": [
    "def consulta(nome: str = \"Paciente\", hora: str = \"8 horas\") -> None:\n",
    "    print(f\"{nome} o seu atendimento será às {hora}\")\n",
    "\n",
    "consulta()\n",
    "consulta(\"Pessoa\", \"11 horas\")\n",
    "consulta(\"Cara\")\n",
    "consulta(hora = \"20horas\")"
   ]
  },
  {
   "attachments": {},
   "cell_type": "markdown",
   "metadata": {},
   "source": [
    "X/////X/////X/////X/////X/////X/////X/////X/////X/////X/////X/////X/////X/////X/////X/////X/////X/////X/////X/////X/////\n",
    "##### Ex. 2\n",
    "Criar uma função que passe 3 números por parâmetro e retorne o maior valor. Os valores padrões serão: 1, 2 e 3."
   ]
  },
  {
   "cell_type": "code",
   "execution_count": 34,
   "metadata": {
    "tags": []
   },
   "outputs": [
    {
     "name": "stdout",
     "output_type": "stream",
     "text": [
      "3\n",
      "4\n",
      "7\n"
     ]
    }
   ],
   "source": [
    "def maior(n1: int = 1, n2: int = 2, n3: int = 3) -> int:\n",
    "    escolha = 0\n",
    "    if n1 > n2 and n1 > n3:\n",
    "        escolha = n1\n",
    "    elif n2 > n1 and n2 > n3:\n",
    "        escolha = n2\n",
    "    else:\n",
    "        escolha = n3\n",
    "    return escolha\n",
    "\n",
    "print(maior())\n",
    "print(maior(2, 4))\n",
    "print(maior(n2 = 7))"
   ]
  },
  {
   "attachments": {},
   "cell_type": "markdown",
   "metadata": {},
   "source": [
    "X/////X/////X/////X/////X/////X/////X/////X/////X/////X/////X/////X/////X/////X/////X/////X/////X/////X/////X/////X/////"
   ]
  },
  {
   "attachments": {},
   "cell_type": "markdown",
   "metadata": {},
   "source": [
    "## Parâmetro *args\n",
    "Args se torna uma tupla vazia, assim pode receber qualquer quantidade de parâmetros.\n",
    "##### Exemplo:"
   ]
  },
  {
   "cell_type": "code",
   "execution_count": 46,
   "metadata": {},
   "outputs": [
    {
     "name": "stdout",
     "output_type": "stream",
     "text": [
      "112\n",
      "108\n",
      "125\n",
      "8\n"
     ]
    }
   ],
   "source": [
    "def soma(*args) -> int: # Args vira uma lista (tupla)\n",
    "    r = 0\n",
    "    for valor in args:\n",
    "        r += valor\n",
    "    return r\n",
    "\n",
    "print(soma(4, 9, 99))\n",
    "print(soma(9, 99))\n",
    "print(soma(9, 99, 5, 8, 4))\n",
    "print(soma(4, 3) + 1)"
   ]
  }
 ],
 "metadata": {
  "kernelspec": {
   "display_name": "Python 3",
   "language": "python",
   "name": "python3"
  },
  "language_info": {
   "codemirror_mode": {
    "name": "ipython",
    "version": 3
   },
   "file_extension": ".py",
   "mimetype": "text/x-python",
   "name": "python",
   "nbconvert_exporter": "python",
   "pygments_lexer": "ipython3",
   "version": "3.11.4"
  },
  "orig_nbformat": 4
 },
 "nbformat": 4,
 "nbformat_minor": 2
}
